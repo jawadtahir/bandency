{
 "cells": [
  {
   "cell_type": "code",
   "execution_count": 2,
   "metadata": {},
   "outputs": [],
   "source": [
    "%load_ext autoreload\n",
    "%autoreload 2\n"
   ]
  },
  {
   "cell_type": "code",
   "execution_count": 3,
   "metadata": {},
   "outputs": [],
   "source": [
    "from fetchdata import fetchluftdaten\n",
    "import os"
   ]
  },
  {
   "cell_type": "code",
   "execution_count": null,
   "metadata": {},
   "outputs": [],
   "source": [
    "import libvirt as lv"
   ]
  },
  {
   "cell_type": "code",
   "execution_count": 80,
   "metadata": {},
   "outputs": [],
   "source": [
    "conn = lv.open('qemu:///system')"
   ]
  },
  {
   "cell_type": "code",
   "execution_count": 65,
   "metadata": {},
   "outputs": [],
   "source": [
    "#conn = lv.open('qemu+ssh://msrg@node-23.cluster.msrg.in.tum.de/system')"
   ]
  },
  {
   "cell_type": "code",
   "execution_count": 19,
   "metadata": {},
   "outputs": [],
   "source": []
  },
  {
   "cell_type": "code",
   "execution_count": 81,
   "metadata": {},
   "outputs": [
    {
     "data": {
      "text/plain": [
       "16"
      ]
     },
     "execution_count": 81,
     "metadata": {},
     "output_type": "execute_result"
    }
   ],
   "source": [
    "conn.getMaxVcpus('qemu')"
   ]
  },
  {
   "cell_type": "code",
   "execution_count": 82,
   "metadata": {},
   "outputs": [
    {
     "data": {
      "text/plain": [
       "{'host': 'bb8',\n",
       " 'max_vcpus': 16,\n",
       " 'model': 'x86_64',\n",
       " 'memory_size_MB': 15717,\n",
       " 'number_of_CPUs': 8,\n",
       " 'MHz_of_CPUs': 1461,\n",
       " 'number_of_NUMA_nodes': 1,\n",
       " 'number_of_CPU_sockets': 1,\n",
       " 'number_of_CPU_cores_per_socket': 4,\n",
       " 'number_of_CPU_threads_per_core': 2,\n",
       " 'libvirtversion': 6005000,\n",
       " 'free_memory_bytes': 565354496}"
      ]
     },
     "execution_count": 82,
     "metadata": {},
     "output_type": "execute_result"
    }
   ],
   "source": [
    "def get_host_info(lvconn):\n",
    "    nodeinfo = conn.getInfo()\n",
    "    return {\n",
    "        \"host\": lvconn.getHostname(),\n",
    "        \"max_vcpus\": lvconn.getMaxVcpus('qemu'),\n",
    "        \"model\": nodeinfo[0],\n",
    "        \"memory_size_MB\": int(nodeinfo[1]),\n",
    "        \"number_of_CPUs\": int(nodeinfo[2]),\n",
    "        \"MHz_of_CPUs\": int(nodeinfo[3]),\n",
    "        \"number_of_NUMA_nodes\": int(nodeinfo[4]),\n",
    "        \"number_of_CPU_sockets\": int(nodeinfo[5]),\n",
    "        \"number_of_CPU_cores_per_socket\": int(nodeinfo[6]),\n",
    "        \"number_of_CPU_threads_per_core\": int(nodeinfo[7]),\n",
    "        \"libvirtversion\": lvconn.getLibVersion(),\n",
    "        \"free_memory_bytes\": int(lvconn.getFreeMemory()),\n",
    "    }\n",
    "\n",
    "get_host_info(conn)"
   ]
  },
  {
   "cell_type": "code",
   "execution_count": 83,
   "metadata": {},
   "outputs": [
    {
     "data": {
      "text/plain": [
       "[{'kernel': 1116280000000,\n",
       "  'user': 4190980000000,\n",
       "  'idle': 25231850000000,\n",
       "  'iowait': 182410000000,\n",
       "  'cpu': 0},\n",
       " {'kernel': 785250000000,\n",
       "  'user': 3401670000000,\n",
       "  'idle': 26426720000000,\n",
       "  'iowait': 160350000000,\n",
       "  'cpu': 1},\n",
       " {'kernel': 1099570000000,\n",
       "  'user': 4607150000000,\n",
       "  'idle': 24817200000000,\n",
       "  'iowait': 230400000000,\n",
       "  'cpu': 2},\n",
       " {'kernel': 963880000000,\n",
       "  'user': 3527650000000,\n",
       "  'idle': 26149950000000,\n",
       "  'iowait': 151650000000,\n",
       "  'cpu': 3},\n",
       " {'kernel': 1094370000000,\n",
       "  'user': 4188830000000,\n",
       "  'idle': 25181750000000,\n",
       "  'iowait': 274390000000,\n",
       "  'cpu': 4},\n",
       " {'kernel': 740850000000,\n",
       "  'user': 3421220000000,\n",
       "  'idle': 26500320000000,\n",
       "  'iowait': 141810000000,\n",
       "  'cpu': 5},\n",
       " {'kernel': 1107230000000,\n",
       "  'user': 4837130000000,\n",
       "  'idle': 24580050000000,\n",
       "  'iowait': 225360000000,\n",
       "  'cpu': 6},\n",
       " {'kernel': 4320160000000,\n",
       "  'user': 2684590000000,\n",
       "  'idle': 23656030000000,\n",
       "  'iowait': 68160000000,\n",
       "  'cpu': 7}]"
      ]
     },
     "execution_count": 83,
     "metadata": {},
     "output_type": "execute_result"
    }
   ],
   "source": [
    "def get_cpu_stats(lvconn):\n",
    "    nodeinfo = conn.getInfo()\n",
    "    number_of_CPUs = nodeinfo[2];\n",
    "    \n",
    "    cpus = list()\n",
    "    for i in range(number_of_CPUs):\n",
    "        stats = conn.getCPUStats(i)\n",
    "        stats[\"cpu\"] = i\n",
    "        cpus.append(stats)\n",
    "    \n",
    "    return cpus\n",
    "\n",
    "get_cpu_stats(conn)"
   ]
  },
  {
   "cell_type": "code",
   "execution_count": 84,
   "metadata": {},
   "outputs": [],
   "source": [
    "def get_running_domains(lvconn):\n",
    "    return conn.listDomainsID()"
   ]
  },
  {
   "cell_type": "code",
   "execution_count": 85,
   "metadata": {},
   "outputs": [
    {
     "data": {
      "text/plain": [
       "[]"
      ]
     },
     "execution_count": 85,
     "metadata": {},
     "output_type": "execute_result"
    }
   ],
   "source": [
    "get_running_domains(conn)"
   ]
  },
  {
   "cell_type": "code",
   "execution_count": 102,
   "metadata": {},
   "outputs": [],
   "source": [
    "def ensure_basic_directory_based_storage_pool(lvconn):\n",
    "    pools = lvconn.listAllStoragePools(0)\n",
    "    \n",
    "    for pool in pools:\n",
    "        if pool.name() == \"virtimages\":\n",
    "            return pool\n",
    "    \n",
    "    print(\"creating\")\n",
    "    \n",
    "    xmlDesc = \"\"\"\n",
    "    <pool type=\"dir\">\n",
    "      <name>virtimages</name>\n",
    "      <target>\n",
    "        <path>/var/lib/libvirt/images</path>\n",
    "      </target>\n",
    "    </pool>\"\"\"\n",
    "    \n",
    "    pool = conn.storagePoolDefineXML(xmlDesc, 0)\n",
    "    pool.setAutostart(1)\n",
    "    \n",
    "    return pool\n",
    "    \n"
   ]
  },
  {
   "cell_type": "code",
   "execution_count": 103,
   "metadata": {},
   "outputs": [],
   "source": [
    "p = ensure_basic_directory_based_storage_pool(conn)"
   ]
  },
  {
   "cell_type": "code",
   "execution_count": 104,
   "metadata": {},
   "outputs": [
    {
     "data": {
      "text/plain": [
       "<libvirt.virStoragePool at 0x7f4244bdd9a0>"
      ]
     },
     "execution_count": 104,
     "metadata": {},
     "output_type": "execute_result"
    }
   ],
   "source": [
    "p"
   ]
  },
  {
   "cell_type": "code",
   "execution_count": 105,
   "metadata": {},
   "outputs": [],
   "source": [
    "pools = conn.listAllStoragePools(0)\n"
   ]
  },
  {
   "cell_type": "code",
   "execution_count": 106,
   "metadata": {},
   "outputs": [
    {
     "name": "stdout",
     "output_type": "stream",
     "text": [
      "0\n"
     ]
    }
   ],
   "source": [
    "for pool in pools:\n",
    "    print(pool.isActive())"
   ]
  },
  {
   "cell_type": "code",
   "execution_count": 107,
   "metadata": {},
   "outputs": [
    {
     "ename": "SyntaxError",
     "evalue": "invalid syntax (<ipython-input-107-f70a32bca1eb>, line 1)",
     "output_type": "error",
     "traceback": [
      "\u001b[0;36m  File \u001b[0;32m\"<ipython-input-107-f70a32bca1eb>\"\u001b[0;36m, line \u001b[0;32m1\u001b[0m\n\u001b[0;31m    https://stackoverflow.com/questions/33892909/python-libvirt-api-create-a-virtual-machine\u001b[0m\n\u001b[0m          ^\u001b[0m\n\u001b[0;31mSyntaxError\u001b[0m\u001b[0;31m:\u001b[0m invalid syntax\n"
     ]
    }
   ],
   "source": [
    "https://stackoverflow.com/questions/33892909/python-libvirt-api-create-a-virtual-machine"
   ]
  },
  {
   "cell_type": "code",
   "execution_count": 1,
   "metadata": {},
   "outputs": [
    {
     "ename": "SyntaxError",
     "evalue": "invalid syntax (<ipython-input-1-a29162274bae>, line 1)",
     "output_type": "error",
     "traceback": [
      "\u001b[0;36m  File \u001b[0;32m\"<ipython-input-1-a29162274bae>\"\u001b[0;36m, line \u001b[0;32m1\u001b[0m\n\u001b[0;31m    create Storage Pool Volume\u001b[0m\n\u001b[0m           ^\u001b[0m\n\u001b[0;31mSyntaxError\u001b[0m\u001b[0;31m:\u001b[0m invalid syntax\n"
     ]
    }
   ],
   "source": [
    "create Storage Pool Volume\n",
    "\n"
   ]
  },
  {
   "cell_type": "code",
   "execution_count": 8,
   "metadata": {},
   "outputs": [],
   "source": [
    "local_filename = \"abc/local_filename.zip\""
   ]
  },
  {
   "cell_type": "code",
   "execution_count": 10,
   "metadata": {},
   "outputs": [
    {
     "data": {
      "text/plain": [
       "'abc/partial_local_filename.zip'"
      ]
     },
     "execution_count": 10,
     "metadata": {},
     "output_type": "execute_result"
    }
   ],
   "source": [
    "os.path.join(os.path.dirname(local_filename), \"partial_\" + os.path.basename(local_filename))"
   ]
  },
  {
   "cell_type": "code",
   "execution_count": null,
   "metadata": {},
   "outputs": [],
   "source": []
  }
 ],
 "metadata": {
  "kernelspec": {
   "display_name": "Python 3",
   "language": "python",
   "name": "python3"
  },
  "language_info": {
   "codemirror_mode": {
    "name": "ipython",
    "version": 3
   },
   "file_extension": ".py",
   "mimetype": "text/x-python",
   "name": "python",
   "nbconvert_exporter": "python",
   "pygments_lexer": "ipython3",
   "version": "3.8.5"
  }
 },
 "nbformat": 4,
 "nbformat_minor": 4
}
